{
 "cells": [
  {
   "cell_type": "markdown",
   "id": "b3d708ce-487e-48c6-91e9-2529d1b4a8d4",
   "metadata": {},
   "source": [
    "# Python Lab 07: Laboratorio Generale - Dataset FIFA '19\n",
    "## Francesco Della Santa, Matematica per l'Intelligenza Artificiale, Politecnico di Torino\n",
    "\n",
    "In questo laboratorio si chiede di applicare i vari strumenti introdotti nei laboratori precedenti o strumenti nuovi ma analoghi (p.e. il [MLP per task di regressione di scikit-learn](https://scikit-learn.org/stable/modules/generated/sklearn.neural_network.MLPRegressor.html)).\n",
    "\n",
    "Il dataset di lavoro sarà il database contenente le statistiche dei giocatori del videogioco FIFA '19, disponibile sulla pagina del corso.\n",
    "I compiti richiesti allo studente sono i seguenti:\n",
    "1. Rappresentati i giocatori rispetto le 34 abilità (_skills_) caratterizzanti, cioè come vettori in $\\mathbb{R}^{n}$ con $n=34$, rappresentarli anche come punti in $\\mathbb{R}^3$ grazie alla PCA e visualizzarli tramite scatterplot (_score graph_). Nella visualizzazione 3D si colorino diversamente i punti a seconda della _GeneralPosition_ (GK, DF, MF, FW) del giocatore. \n",
    "\n",
    "    Calcolare la percentuale di varianza totale spiegata e provare ad assegnare un'interpretazione alle componenti principali ottenute tramite PCA.\n",
    "\n",
    "    **SUGGERIMENTO:** applicare la PCA sui dati di addestramento creati per il problema di classificazione illustrato come penultimo punto.\n",
    "1. Applicare la MDA per vedere se sia possibile applicare una riduzione di dimensionalità che discrimini in maniera accettabile i giocatori rispetto la loro _GeneralPosition_.\n",
    "\n",
    "    **SUGGERIMENTO:** applicare la MDA sui dati di addestramento creati per il problema di classificazione illustrato come penultimo punto.\n",
    "1. Addestrare uno o più modelli che sappiano predire l'_Overlall_ score dei giocatori, date le _skills_ e la _GeneralPosition_. \n",
    "\n",
    "    **SUGGERIMENTO:** volutamente non sono fornite indicazioni sull'utilizzo di PCA e/o preprocessing dei dati (p.e. StandardScaler, MinMaxScaler, ecc.) né sulle percentuali di dati da utilizzare per l'addestramento e per il test. Lo studente è quindi libero di addestrare più modelli (di vario tipo), al variare degli iper-parametri e/o di altre condizioni (p.e. il numero di dati di training). Tuttavia si ricordi di _GIUSTIFICARE SEMPRE LE PROPRIE SCELTE_.\n",
    "1. Addestrare uno o più modelli che sappiano predire la _GeneralPosition_ dei giocatori, date le _skills_. \n",
    "\n",
    "    **SUGGERIMENTO:** analogo al suggerimento precedente.\n",
    "1. Combinare i due migliori modelli ottenuti ai punti precedenti per ottenere un modello capace di predire l'_Overall_ score dei giocatori, date le _skills_, ma non la _GeneralPosition_.\n"
   ]
  },
  {
   "cell_type": "markdown",
   "id": "3cfdcc22-38ec-41de-bed7-9452de9a27c6",
   "metadata": {},
   "source": [
    "## Importazione Moduli e Pacchetti"
   ]
  },
  {
   "cell_type": "code",
   "execution_count": 1,
   "id": "356ab36e-beac-49ec-aebf-ccde71ecd5bf",
   "metadata": {},
   "outputs": [],
   "source": [
    "# ***** NOTA BENE! *****\n",
    "# perché %matplotlib widget funzioni, installare nell'ambiente virtuale \n",
    "# il pacchetto ipympl con il comando:\n",
    "# pip install ipympl\n",
    "#\n",
    "# ATTENZIONE: perché funzioni è necessario chiudere e rilanciare jupyter-lab\n",
    "#\n",
    "# STILE DI VISUALIZZAZIONE PLOT FATTI CON MATPLOTLIB\n",
    "%matplotlib widget\n",
    "#\n",
    "#\n",
    "import pandas as pd\n",
    "import numpy as np\n",
    "import matplotlib\n",
    "import matplotlib.pyplot as plt\n",
    "from IPython.display import display\n",
    "\n",
    "# ... <-- AGGIUNGERE I MODULI CHE SI RITIENE OPPORTUNI!\n"
   ]
  },
  {
   "cell_type": "code",
   "execution_count": 2,
   "id": "7057d30a-371d-431d-8ec7-84c894033a01",
   "metadata": {},
   "outputs": [],
   "source": [
    "# ... <-- SVOLGI QUANTO RICHIESTO!"
   ]
  }
 ],
 "metadata": {
  "kernelspec": {
   "display_name": "Python 3 (ipykernel)",
   "language": "python",
   "name": "python3"
  },
  "language_info": {
   "codemirror_mode": {
    "name": "ipython",
    "version": 3
   },
   "file_extension": ".py",
   "mimetype": "text/x-python",
   "name": "python",
   "nbconvert_exporter": "python",
   "pygments_lexer": "ipython3",
   "version": "3.12.3"
  }
 },
 "nbformat": 4,
 "nbformat_minor": 5
}
