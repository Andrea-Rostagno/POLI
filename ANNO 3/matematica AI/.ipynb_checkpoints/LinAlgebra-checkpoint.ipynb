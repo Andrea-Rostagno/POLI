{
 "cells": [
  {
   "cell_type": "markdown",
   "id": "5e52220e-4e7d-4363-a769-3c1d97fff962",
   "metadata": {},
   "source": [
    "# Python Lab 00c: Algebra Lineare in Python\n",
    "## Francesco Della Santa, Matematica per l'Intelligenza Artificiale, Politecnico di Torino\n",
    "\n",
    "Il pacchetto \"per eccellenza\" per eseguire calcolo scientifico di base in Pyhton è **numpy**. La sua estensione, per il calcolo scientifico avanzato, è invece **scipy** (di fatto, scipy \"include\" numpy).\n",
    "\n",
    "Per convenzione questi due pacchetti si importano con le abbreviazioni **np** e **sp**, cioè usando i comandi:\n",
    "- import numpy as np\n",
    "- import scipy as sp\n",
    "\n",
    "In questo notebook illustriamo brevemente i comandi base di numpy per l'algebra lineare. Per maggiori informazioni: https://numpy.org/"
   ]
  },
  {
   "cell_type": "code",
   "execution_count": 1,
   "id": "cd128181-c220-4082-a293-4e174f85eebc",
   "metadata": {},
   "outputs": [],
   "source": [
    "# ***** ATTENTION! *****\n",
    "# If you want that the \"%matplotlib widget\" works, you need the package ipympl (pip install ipympl)\n",
    "#\n",
    "#\n",
    "# MATPLOTLIB INTERACTIVE VISUALIZATION. REMOVE (OR COMMENT) IF YOU NEED TO PRINT THE NOTEBOOK AS A PDF, SOMETIMES IT DOES NOT WORK WELL...\n",
    "%matplotlib widget\n",
    "#\n",
    "#\n",
    "\n",
    "from IPython.display import display  # to display variables in a \"nice\" way\n",
    "from IPython.display import Image  # to import images \"exportables\" to PDF\n",
    "import matplotlib.pyplot as plt\n",
    "import numpy as np\n"
   ]
  },
  {
   "cell_type": "markdown",
   "id": "579ba35d-362d-48db-b18f-da1bc9258cf8",
   "metadata": {},
   "source": [
    "## ND-Arrays\n",
    "\n",
    "Gli oggetti di lavoro principali di numpy (e scipy) sono i cosiddetti **ndarrays** (che chiamereo più semplicemente \"**arrays**\"), i quali sono sequenze multi-dimensionali di oggetti ordinati (similmente alle liste e le tuple). \n",
    "\n",
    "Questi array sono utilizzati per rappresentare vettori, matrici e tensori. La creazione di tali oggetti avviene tramite la funzione **array** di numpy. Potete leggere la descrizione completa della funzione nell'output della cella di seguito a questa.\n",
    "Tuttavia, per i nostri scopi, ci interesseremo alla creazione di array tramite apposita funzione utilizzando solamente i due seguenti argomenti di input:\n",
    "1. **object**\n",
    "1. **ndmin**"
   ]
  },
  {
   "cell_type": "code",
   "execution_count": 2,
   "id": "e8993085-a9ec-44b6-9618-f9dfe4336643",
   "metadata": {},
   "outputs": [
    {
     "name": "stdout",
     "output_type": "stream",
     "text": [
      "Help on built-in function array in module numpy:\n",
      "\n",
      "array(...)\n",
      "    array(object, dtype=None, *, copy=True, order='K', subok=False, ndmin=0,\n",
      "          like=None)\n",
      "\n",
      "    Create an array.\n",
      "\n",
      "    Parameters\n",
      "    ----------\n",
      "    object : array_like\n",
      "        An array, any object exposing the array interface, an object whose\n",
      "        ``__array__`` method returns an array, or any (nested) sequence.\n",
      "        If object is a scalar, a 0-dimensional array containing object is\n",
      "        returned.\n",
      "    dtype : data-type, optional\n",
      "        The desired data-type for the array. If not given, NumPy will try to use\n",
      "        a default ``dtype`` that can represent the values (by applying promotion\n",
      "        rules when necessary.)\n",
      "    copy : bool, optional\n",
      "        If true (default), then the object is copied.  Otherwise, a copy will\n",
      "        only be made if ``__array__`` returns a copy, if obj is a nested\n",
      "        sequence, or if a copy is needed to satisfy any of the other\n",
      "        requirements (``dtype``, ``order``, etc.).\n",
      "    order : {'K', 'A', 'C', 'F'}, optional\n",
      "        Specify the memory layout of the array. If object is not an array, the\n",
      "        newly created array will be in C order (row major) unless 'F' is\n",
      "        specified, in which case it will be in Fortran order (column major).\n",
      "        If object is an array the following holds.\n",
      "\n",
      "        ===== ========= ===================================================\n",
      "        order  no copy                     copy=True\n",
      "        ===== ========= ===================================================\n",
      "        'K'   unchanged F & C order preserved, otherwise most similar order\n",
      "        'A'   unchanged F order if input is F and not C, otherwise C order\n",
      "        'C'   C order   C order\n",
      "        'F'   F order   F order\n",
      "        ===== ========= ===================================================\n",
      "\n",
      "        When ``copy=False`` and a copy is made for other reasons, the result is\n",
      "        the same as if ``copy=True``, with some exceptions for 'A', see the\n",
      "        Notes section. The default order is 'K'.\n",
      "    subok : bool, optional\n",
      "        If True, then sub-classes will be passed-through, otherwise\n",
      "        the returned array will be forced to be a base-class array (default).\n",
      "    ndmin : int, optional\n",
      "        Specifies the minimum number of dimensions that the resulting\n",
      "        array should have.  Ones will be prepended to the shape as\n",
      "        needed to meet this requirement.\n",
      "    like : array_like, optional\n",
      "        Reference object to allow the creation of arrays which are not\n",
      "        NumPy arrays. If an array-like passed in as ``like`` supports\n",
      "        the ``__array_function__`` protocol, the result will be defined\n",
      "        by it. In this case, it ensures the creation of an array object\n",
      "        compatible with that passed in via this argument.\n",
      "\n",
      "        .. versionadded:: 1.20.0\n",
      "\n",
      "    Returns\n",
      "    -------\n",
      "    out : ndarray\n",
      "        An array object satisfying the specified requirements.\n",
      "\n",
      "    See Also\n",
      "    --------\n",
      "    empty_like : Return an empty array with shape and type of input.\n",
      "    ones_like : Return an array of ones with shape and type of input.\n",
      "    zeros_like : Return an array of zeros with shape and type of input.\n",
      "    full_like : Return a new array with shape of input filled with value.\n",
      "    empty : Return a new uninitialized array.\n",
      "    ones : Return a new array setting values to one.\n",
      "    zeros : Return a new array setting values to zero.\n",
      "    full : Return a new array of given shape filled with value.\n",
      "\n",
      "\n",
      "    Notes\n",
      "    -----\n",
      "    When order is 'A' and ``object`` is an array in neither 'C' nor 'F' order,\n",
      "    and a copy is forced by a change in dtype, then the order of the result is\n",
      "    not necessarily 'C' as expected. This is likely a bug.\n",
      "\n",
      "    Examples\n",
      "    --------\n",
      "    >>> np.array([1, 2, 3])\n",
      "    array([1, 2, 3])\n",
      "\n",
      "    Upcasting:\n",
      "\n",
      "    >>> np.array([1, 2, 3.0])\n",
      "    array([ 1.,  2.,  3.])\n",
      "\n",
      "    More than one dimension:\n",
      "\n",
      "    >>> np.array([[1, 2], [3, 4]])\n",
      "    array([[1, 2],\n",
      "           [3, 4]])\n",
      "\n",
      "    Minimum dimensions 2:\n",
      "\n",
      "    >>> np.array([1, 2, 3], ndmin=2)\n",
      "    array([[1, 2, 3]])\n",
      "\n",
      "    Type provided:\n",
      "\n",
      "    >>> np.array([1, 2, 3], dtype=complex)\n",
      "    array([ 1.+0.j,  2.+0.j,  3.+0.j])\n",
      "\n",
      "    Data-type consisting of more than one element:\n",
      "\n",
      "    >>> x = np.array([(1,2),(3,4)],dtype=[('a','<i4'),('b','<i4')])\n",
      "    >>> x['a']\n",
      "    array([1, 3])\n",
      "\n",
      "    Creating an array from sub-classes:\n",
      "\n",
      "    >>> np.array(np.mat('1 2; 3 4'))\n",
      "    array([[1, 2],\n",
      "           [3, 4]])\n",
      "\n",
      "    >>> np.array(np.mat('1 2; 3 4'), subok=True)\n",
      "    matrix([[1, 2],\n",
      "            [3, 4]])\n",
      "\n"
     ]
    }
   ],
   "source": [
    "help(np.array)"
   ]
  },
  {
   "cell_type": "markdown",
   "id": "4f9f2c07-87c5-45e6-b9a1-a3cb6642dbc6",
   "metadata": {},
   "source": [
    "#### FARE ATTENZIONE AL dtype:\n",
    "\n",
    "L'argomento **dtype** è quasi sempre presente come opzione facoltativa da specificare nelle funzioni che creano array (incluse quelle che utilizzeremo nelle prossime celle). Questo argomento è importante da conoscere perché serve a specificare/imporre alla funzione come interpretare i dati che comporranno l'array, cioè se i valori saranno booleani, interi, float, ecc.. Se non indicato, il dtype verrà dedotto dai valori in ingresso.\n",
    "\n",
    "**ATTENZIONE**: numpy *ha le proprie tipologie di dati* per gli interi, i float, ecc.; per esempio: np.int8, np.int16, np.int32, np.int64, np.float16, np.float32, np.float64, np.float128 (il numero dopo il tipo di dato indica i bit utilizzati per scrivere il numero nella memoria del computer)."
   ]
  },
  {
   "cell_type": "markdown",
   "id": "c941df89-b338-465e-85b9-300eab5ff9f9",
   "metadata": {},
   "source": [
    "### Dimensioni degli Array\n",
    "\n",
    "Gli array possono avere un numero arbitrario di **assi** (spesso chiamati anche **dimensioni dell'array**); più specificatamente un numero di assi tra 0 e 32 (per limiti computazionali).\n",
    "Quindi, gli **0D**-arrays altro non sono che una rappresentazione di numeri scalari in numpy. \n",
    "\n",
    "Più in generale:\n",
    "- **0D**-array sono scalari\n",
    "- **1D**-arrays sono array di 0D-arrays (vattori \"scritti come liste\")\n",
    "- **2D**-arrays sono array di 1D-arrays (matrici)\n",
    "- **3D**-array sono arrays of 2D-arrays (tensori 3D, p.e. immagini RGB)\n",
    "- ...\n",
    "\n",
    "#### Creare Array da Liste\n",
    "Uno 0D-array si crea dando in input un valore scalare alla funzione np.array. Quindi, in generale, per creare un **ND**-array, l'input della funzione np.array  sarà una lista di **N liste** di **N-1 liste** di ... **ricorsivamente**."
   ]
  },
  {
   "cell_type": "markdown",
   "id": "3b833d01-b616-4f9f-9108-db70fd7870af",
   "metadata": {},
   "source": [
    "#### Esempi\n",
    "- esempio di uno stesso **0D**-array scritto come scalare, vettore, matrice e tensore:"
   ]
  },
  {
   "cell_type": "code",
   "execution_count": 3,
   "id": "f2ec07c6-2eb6-46aa-9a4c-4d1a65fc0221",
   "metadata": {},
   "outputs": [
    {
     "name": "stdout",
     "output_type": "stream",
     "text": [
      "-------------------------\n",
      "0D-array with 0 axes:\n",
      "\n"
     ]
    },
    {
     "data": {
      "text/plain": [
       "array(1.)"
      ]
     },
     "metadata": {},
     "output_type": "display_data"
    },
    {
     "name": "stdout",
     "output_type": "stream",
     "text": [
      "-------------------------\n",
      "-------------------------\n",
      "0D-array with 1 axes:\n",
      "\n"
     ]
    },
    {
     "data": {
      "text/plain": [
       "array([1.])"
      ]
     },
     "metadata": {},
     "output_type": "display_data"
    },
    {
     "name": "stdout",
     "output_type": "stream",
     "text": [
      "-------------------------\n",
      "-------------------------\n",
      "0D-array with 2 axes:\n",
      "\n"
     ]
    },
    {
     "data": {
      "text/plain": [
       "array([[1.]])"
      ]
     },
     "metadata": {},
     "output_type": "display_data"
    },
    {
     "name": "stdout",
     "output_type": "stream",
     "text": [
      "-------------------------\n",
      "-------------------------\n",
      "0D-array with 3 axes:\n",
      "\n"
     ]
    },
    {
     "data": {
      "text/plain": [
       "array([[[1.]]])"
      ]
     },
     "metadata": {},
     "output_type": "display_data"
    },
    {
     "name": "stdout",
     "output_type": "stream",
     "text": [
      "-------------------------\n"
     ]
    }
   ],
   "source": [
    "for nd in range(4):\n",
    "    print('-------------------------')\n",
    "    print(f'0D-array with {nd} axes:')\n",
    "    print('')\n",
    "    display(np.array(1., ndmin=nd))\n",
    "    print('-------------------------')"
   ]
  },
  {
   "cell_type": "markdown",
   "id": "0cf41d68-e466-4329-886d-15178c59cd59",
   "metadata": {},
   "source": [
    "- esempio di uno stesso **1D**-array scritto come vettore, matrice e tensore:"
   ]
  },
  {
   "cell_type": "code",
   "execution_count": 4,
   "id": "a3bf2642-fee8-4ede-8193-92696f6fe853",
   "metadata": {},
   "outputs": [
    {
     "name": "stdout",
     "output_type": "stream",
     "text": [
      "-------------------------\n",
      "1D-array with 1 axes:\n",
      "\n"
     ]
    },
    {
     "data": {
      "text/plain": [
       "array([1. , 0.5])"
      ]
     },
     "metadata": {},
     "output_type": "display_data"
    },
    {
     "name": "stdout",
     "output_type": "stream",
     "text": [
      "-------------------------\n",
      "-------------------------\n",
      "1D-array with 2 axes:\n",
      "\n"
     ]
    },
    {
     "data": {
      "text/plain": [
       "array([[1. , 0.5]])"
      ]
     },
     "metadata": {},
     "output_type": "display_data"
    },
    {
     "name": "stdout",
     "output_type": "stream",
     "text": [
      "-------------------------\n",
      "-------------------------\n",
      "1D-array with 3 axes:\n",
      "\n"
     ]
    },
    {
     "data": {
      "text/plain": [
       "array([[[1. , 0.5]]])"
      ]
     },
     "metadata": {},
     "output_type": "display_data"
    },
    {
     "name": "stdout",
     "output_type": "stream",
     "text": [
      "-------------------------\n"
     ]
    }
   ],
   "source": [
    "for nd in range(1, 4):\n",
    "    print('-------------------------')\n",
    "    print(f'1D-array with {nd} axes:')\n",
    "    print('')\n",
    "    display(np.array([1., 0.5], ndmin=nd))\n",
    "    print('-------------------------')"
   ]
  },
  {
   "cell_type": "markdown",
   "id": "e33e70c7-d058-414b-9767-395b26dc6930",
   "metadata": {},
   "source": [
    "- esempio di uno stesso **2D**-array scritto come matrice e tensore:"
   ]
  },
  {
   "cell_type": "code",
   "execution_count": 5,
   "id": "0f59493a-c502-471a-a8f6-033be4371553",
   "metadata": {},
   "outputs": [
    {
     "name": "stdout",
     "output_type": "stream",
     "text": [
      "-------------------------\n",
      "2D-array with 2 axes:\n",
      "\n"
     ]
    },
    {
     "data": {
      "text/plain": [
       "array([[1. , 0.5],\n",
       "       [0.5, 1. ]])"
      ]
     },
     "metadata": {},
     "output_type": "display_data"
    },
    {
     "name": "stdout",
     "output_type": "stream",
     "text": [
      "-------------------------\n",
      "-------------------------\n",
      "2D-array with 3 axes:\n",
      "\n"
     ]
    },
    {
     "data": {
      "text/plain": [
       "array([[[1. , 0.5],\n",
       "        [0.5, 1. ]]])"
      ]
     },
     "metadata": {},
     "output_type": "display_data"
    },
    {
     "name": "stdout",
     "output_type": "stream",
     "text": [
      "-------------------------\n"
     ]
    }
   ],
   "source": [
    "for nd in range(2, 4):\n",
    "    print('-------------------------')\n",
    "    print(f'2D-array with {nd} axes:')\n",
    "    print('')\n",
    "    display(np.array([[1., 0.5], [0.5, 1.]], ndmin=nd))\n",
    "    print('-------------------------')"
   ]
  },
  {
   "cell_type": "markdown",
   "id": "d6c80c03-17b9-4d0d-b366-2cde776580a5",
   "metadata": {},
   "source": [
    "- esempio di un **3D**-array scritto come tensore:"
   ]
  },
  {
   "cell_type": "code",
   "execution_count": 6,
   "id": "47f80c9c-0503-48d5-b4d6-22dbd55569b7",
   "metadata": {},
   "outputs": [
    {
     "name": "stdout",
     "output_type": "stream",
     "text": [
      "3D-array with 3 axes:\n",
      "\n"
     ]
    },
    {
     "data": {
      "text/plain": [
       "array([[[1. , 0.5],\n",
       "        [0.5, 1. ]],\n",
       "\n",
       "       [[2. , 1.5],\n",
       "        [1.5, 2. ]]])"
      ]
     },
     "metadata": {},
     "output_type": "display_data"
    }
   ],
   "source": [
    "print(f'3D-array with {nd} axes:')\n",
    "print('')\n",
    "display(np.array([[[1., 0.5], [0.5, 1.]], [[2., 1.5], [1.5, 2.]]]))"
   ]
  },
  {
   "cell_type": "markdown",
   "id": "5bfa4f64-a039-49cf-b40b-382b07f7eb49",
   "metadata": {},
   "source": [
    "### Altre Funzioni per la Creazione di Array\n",
    "\n",
    "Di seguito proponiamo una lista di alcune delle principali **funzioni** numpy per la **creazione di array**:\n",
    "- np.**identity**(n): restituisce la matrice identità $\\mathbb{R}^{n\\times n}$ (2D-array). Per maggiori informazioni, leggere l'help della funzione (rimuovendo il simbolo di commento nella cella qui sottostante)."
   ]
  },
  {
   "cell_type": "code",
   "execution_count": 7,
   "id": "b4d323a7-dbe6-4013-8e28-4e33f65bc8f4",
   "metadata": {},
   "outputs": [],
   "source": [
    "# help(np.identity)"
   ]
  },
  {
   "cell_type": "markdown",
   "id": "e970aa83-888f-4712-a7d4-eb46efd203f7",
   "metadata": {},
   "source": [
    "- np.**eye**(n,m,k): restituisce la matrice $\\mathbb{R}^{n\\times m}$ avente tutti elementi nulli tranne quelli di indice $(i, i+k)$, che avranno valore $1$ (cioè la $k$-esima diagonale ha elementi uguali a $1$). L'argomento k può essere omesso (in tal caso assume valore 0 di default). Per maggiori informazioni, leggere l'help della funzione (rimuovendo il simbolo di commento nella cella qui sottostante)."
   ]
  },
  {
   "cell_type": "code",
   "execution_count": 8,
   "id": "3bec61a8-e792-435d-b1bf-c0ec7a91e32f",
   "metadata": {},
   "outputs": [],
   "source": [
    "# help(np.eye)"
   ]
  },
  {
   "cell_type": "markdown",
   "id": "3e4538c6-e960-42b7-84c3-daf2ef4a9f11",
   "metadata": {},
   "source": [
    "- np.**zeros**( (d1, ..., dN) ): restutuisce l'ND-array nullo nello spazio $\\mathbb{R}^{d_1\\times\\cdots\\times d_N}$. Per maggiori informazioni, leggere l'help della funzione (rimuovendo il simbolo di commento nella cella qui sottostante)."
   ]
  },
  {
   "cell_type": "code",
   "execution_count": 9,
   "id": "0792d80c-dbe6-43bc-aa5a-fab81dc08943",
   "metadata": {},
   "outputs": [],
   "source": [
    "# help(np.zeros)"
   ]
  },
  {
   "cell_type": "markdown",
   "id": "2d82fc44-c253-4b92-87ad-4c0db8802418",
   "metadata": {},
   "source": [
    "- np.**ones**( (d1, ..., dN) ): restituisce l'ND-array nello spazion $\\mathbb{R}^{d_1\\times\\cdots\\times d_N}$, con tutti elementi uguali ad 1. Per maggiori informazioni, leggere l'help della funzione (rimuovendo il simbolo di commento nella cella qui sottostante)."
   ]
  },
  {
   "cell_type": "code",
   "execution_count": 10,
   "id": "d14a1a68-b949-4cf5-bad2-f907f1950047",
   "metadata": {},
   "outputs": [],
   "source": [
    "# help(np.ones)"
   ]
  },
  {
   "cell_type": "markdown",
   "id": "d04f1d24-658f-48fa-a089-7c787f18c68b",
   "metadata": {},
   "source": [
    "- np.**random.rand**(d1,... ,dN): restituisce l'ND-array in $\\mathbb{R}^{d_1\\times\\cdots\\times d_N}$, con tuti elementi campionati casualmente in $[0,1]$ (distribuzione uniforme). Se non si inserisce argomenti, la funzione restituisce un numero scalare (ATTENTIONE, not uno 0D-array!). Per maggiori informazioni, leggere l'help della funzione (rimuovendo il simbolo di commento nella cella qui sottostante)."
   ]
  },
  {
   "cell_type": "code",
   "execution_count": 11,
   "id": "32799ebb-7a69-457d-96b0-1fd98649ca8e",
   "metadata": {},
   "outputs": [],
   "source": [
    "# help(np.random.rand)"
   ]
  },
  {
   "cell_type": "markdown",
   "id": "f69e276f-2b5f-46ce-8921-87b2039aa9fc",
   "metadata": {},
   "source": [
    "- np.**arange**(n0,nFin,step): è la \"versione array\" di numpy per generare array analoghi agli oggetti range di python. Questa funzione restituisce un 1D-array con elementi tra **n0** (*incluso*, default 0 se omesso) e **nFin** (escluso), con passo **step** (default 1 se omesso). Per maggiori informazioni, leggere l'help della funzione (rimuovendo il simbolo di commento nella cella qui sottostante)."
   ]
  },
  {
   "cell_type": "code",
   "execution_count": 12,
   "id": "f63ad26d-5346-4ae2-81ba-0f38cd8c1a3e",
   "metadata": {},
   "outputs": [],
   "source": [
    "# help(np.arange)"
   ]
  },
  {
   "cell_type": "markdown",
   "id": "6ba620f4-1ee8-4786-b4df-ff02741f22ac",
   "metadata": {},
   "source": [
    "- np.**linspace**(start, stop, num): restituisce un 1D-array di **num** elementi (default 50 se omesso) equispaziati nell'intervallo [start, stop]. Per maggiori informazioni, leggere l'help della funzione (rimuovendo il simbolo di commento nella cella qui sottostante)."
   ]
  },
  {
   "cell_type": "code",
   "execution_count": 13,
   "id": "57f84ee5-6ac6-4802-9b4a-6469b790b261",
   "metadata": {},
   "outputs": [],
   "source": [
    "# help(np.linspace)"
   ]
  },
  {
   "cell_type": "markdown",
   "id": "8ce212fe-7baa-4617-aed4-08163f081b57",
   "metadata": {},
   "source": [
    "### Metodi ed Attributi di Array\n",
    "\n",
    "I principali metodi ed attributi degli oggetti array (di seguito indicati dalla variabile **v**) sono i seguenti:\n",
    "- v.**shape**: è la tupla (d1, ..., dN) se v è un ND-array in $\\mathbb{R}^{d_1\\times\\cdots\\times d_N}$. se v è uno 0D-array, la tupla sarà vuota, cioè (). Nella cella sottostante è possibile vedere alcuni esempi."
   ]
  },
  {
   "cell_type": "code",
   "execution_count": 14,
   "id": "c913e9d5-5e07-45b1-a083-d0efddcde8fa",
   "metadata": {},
   "outputs": [
    {
     "name": "stdout",
     "output_type": "stream",
     "text": [
      "The shape of 0.5748609446550265 is ()\n",
      "\n",
      "The shape of [0.75871672 0.72189416 0.65614971 0.88202467] is (4,)\n",
      "\n",
      "The shape of [[0.68395194 0.19472231 0.13709062 0.05123454]\n",
      " [0.20657917 0.50097153 0.25775705 0.54348368]\n",
      " [0.38395963 0.70841894 0.71563765 0.59150153]] is (3, 4)\n",
      "\n"
     ]
    }
   ],
   "source": [
    "v1 = np.array(np.random.rand())  # random 0D-array\n",
    "v2 = np.random.rand(4)  # random 1D-array of 4 elements\n",
    "v3 = np.random.rand(3, 4)  # random 2D-array 3-by-4 elements\n",
    "\n",
    "for v in [v1, v2, v3]:\n",
    "    print(f'The shape of {v} is {v.shape}')\n",
    "    print('')"
   ]
  },
  {
   "cell_type": "markdown",
   "id": "6884283a-8df9-4232-a5b1-c6dec1f84adf",
   "metadata": {},
   "source": [
    "- v.**ndim**: è il numero di assi (\"dimensioni dell'array\") di v; quindi v.ndim è uguale alla lunghezza della tupla v.shape. Nella cella sottostante è possibile vedere alcuni esempi."
   ]
  },
  {
   "cell_type": "code",
   "execution_count": 15,
   "id": "5a7d4c86-6bb6-4474-af0d-e91d06fb1d99",
   "metadata": {},
   "outputs": [
    {
     "name": "stdout",
     "output_type": "stream",
     "text": [
      "The ndim of 0.5748609446550265 is 0\n",
      "\n",
      "The ndim of [0.75871672 0.72189416 0.65614971 0.88202467] is 1\n",
      "\n",
      "The ndim of [[0.68395194 0.19472231 0.13709062 0.05123454]\n",
      " [0.20657917 0.50097153 0.25775705 0.54348368]\n",
      " [0.38395963 0.70841894 0.71563765 0.59150153]] is 2\n",
      "\n"
     ]
    }
   ],
   "source": [
    "for v in [v1, v2, v3]:\n",
    "    print(f'The ndim of {v} is {v.ndim}')\n",
    "    print('')"
   ]
  },
  {
   "cell_type": "markdown",
   "id": "b8d16003-f3d8-44d7-99b2-1dc69eb24e11",
   "metadata": {},
   "source": [
    "- v.**size**: è il numero totale di elementi di v; quindi v.size è uguale al prodotto dei valori della tupla v.shape. Nella cella sottostante è possibile vedere alcuni esempi."
   ]
  },
  {
   "cell_type": "code",
   "execution_count": 16,
   "id": "08166003-31f6-472f-8b10-15afeba01899",
   "metadata": {},
   "outputs": [
    {
     "name": "stdout",
     "output_type": "stream",
     "text": [
      "The size of 0.5748609446550265 is 1\n",
      "\n",
      "The size of [0.75871672 0.72189416 0.65614971 0.88202467] is 4\n",
      "\n",
      "The size of [[0.68395194 0.19472231 0.13709062 0.05123454]\n",
      " [0.20657917 0.50097153 0.25775705 0.54348368]\n",
      " [0.38395963 0.70841894 0.71563765 0.59150153]] is 12\n",
      "\n"
     ]
    }
   ],
   "source": [
    "for v in [v1, v2, v3]:\n",
    "    print(f'The size of {v} is {v.size}')\n",
    "    print('')"
   ]
  },
  {
   "cell_type": "markdown",
   "id": "c0522ef6-7dbf-4930-acfa-c412404af3f0",
   "metadata": {},
   "source": [
    "- v.**T**: è la trasposta di v (nessun effetto per v se 0D/1D-array). Nella cella sottostante è possibile vedere alcuni esempi."
   ]
  },
  {
   "cell_type": "code",
   "execution_count": 17,
   "id": "8a6f671c-1735-4974-8acf-2f8d857a9a3f",
   "metadata": {},
   "outputs": [
    {
     "name": "stdout",
     "output_type": "stream",
     "text": [
      "This is a matrix:\n",
      "[[0.68395194 0.19472231 0.13709062 0.05123454]\n",
      " [0.20657917 0.50097153 0.25775705 0.54348368]\n",
      " [0.38395963 0.70841894 0.71563765 0.59150153]]\n",
      "\n",
      "This is its transpose:\n",
      "[[0.68395194 0.20657917 0.38395963]\n",
      " [0.19472231 0.50097153 0.70841894]\n",
      " [0.13709062 0.25775705 0.71563765]\n",
      " [0.05123454 0.54348368 0.59150153]]\n"
     ]
    }
   ],
   "source": [
    "print(f'This is a matrix:')\n",
    "print(f'{v3}')\n",
    "print('')\n",
    "print(f'This is its transpose:')\n",
    "print(f'{v3.T}')"
   ]
  },
  {
   "cell_type": "markdown",
   "id": "79793503-6ae6-4a64-bc10-df65e708ffda",
   "metadata": {},
   "source": [
    "- v.**copy**(): restituisce una copia di v. MOLTO IMPORTANTE PER EVITARE ERRORI NEL CODICE! Nella cella sottostante è possibile vedere alcuni esempi."
   ]
  },
  {
   "cell_type": "code",
   "execution_count": 18,
   "id": "cbe51429-4ee4-42a7-9f9a-dd0056c7c436",
   "metadata": {},
   "outputs": [
    {
     "name": "stdout",
     "output_type": "stream",
     "text": [
      "Do the copies have the same value(s) of the original array? Answer: True\n",
      "Do the copies point to the same object in memory of the original array? Answer: False\n"
     ]
    }
   ],
   "source": [
    "v1b = v1.copy()\n",
    "\n",
    "print(f'Do the copies have the same value(s) of the original array? Answer: {v1 == v1b}')\n",
    "print(f'Do the copies point to the same object in memory of the original array? Answer: {v1 is v1b}')"
   ]
  },
  {
   "cell_type": "markdown",
   "id": "9c46505f-7751-4108-8a34-4909a2d64e3c",
   "metadata": {},
   "source": [
    "- v.**nonzero**(): restituisce una tupla con N array rappresentanti gli indici $(i, j, \\ldots)$ corrispondenti ai valori non nullidi v. Nella cella sottostante è possibile vedere alcuni esempi."
   ]
  },
  {
   "cell_type": "code",
   "execution_count": 19,
   "id": "3bd451ba-cfad-4eaa-9e48-5e8b5481ef09",
   "metadata": {},
   "outputs": [
    {
     "name": "stdout",
     "output_type": "stream",
     "text": [
      "The nonzero elements of the matrix are: (array([0, 1, 2], dtype=int64), array([0, 1, 2], dtype=int64))\n",
      "\n",
      "To read \"better\" the indexes of the nonzero elements:\n",
      "Nonzero element 1: (0, 0)\n",
      "Nonzero element 2: (1, 1)\n",
      "Nonzero element 3: (2, 2)\n"
     ]
    }
   ],
   "source": [
    "I3 = np.identity(3)\n",
    "\n",
    "print(f'The nonzero elements of the matrix are: {I3.nonzero()}')\n",
    "print('')\n",
    "print('To read \"better\" the indexes of the nonzero elements:')\n",
    "\n",
    "num_indexes = len(I3.nonzero()[0])\n",
    "for n in range(num_indexes):\n",
    "    idxs = [arr[n] for arr in I3.nonzero()]  # EXERCISE: remember how to use for cycles in 1 line to build sequences!\n",
    "    print(f'Nonzero element {n + 1}: {tuple(idxs)}')"
   ]
  },
  {
   "cell_type": "markdown",
   "id": "5fcede06-6c68-4959-96e6-c42d35697311",
   "metadata": {},
   "source": [
    "- v.**reshape**((d1', ..., dM')): restituisce un array in $\\mathbb{R}^{d'_1\\times\\cdots\\times d'_M}$ con stessi elementi di v ma \"rimodulati\" (ATTENZIONE: il nuovo vettore dovrà avere stessa size!). Nella cella sottostante è possibile vedere alcuni esempi."
   ]
  },
  {
   "cell_type": "code",
   "execution_count": 20,
   "id": "b04e41dd-4064-41df-89f6-5eb41e5f16c4",
   "metadata": {},
   "outputs": [
    {
     "name": "stdout",
     "output_type": "stream",
     "text": [
      "Original matrix of shape (3, 4) (size 12):\n",
      "[[0.68395194 0.19472231 0.13709062 0.05123454]\n",
      " [0.20657917 0.50097153 0.25775705 0.54348368]\n",
      " [0.38395963 0.70841894 0.71563765 0.59150153]]\n",
      "\n",
      "Reshaped matrix of shape (2, 6) (size 12):\n",
      "[[0.68395194 0.19472231 0.13709062 0.05123454 0.20657917 0.50097153]\n",
      " [0.25775705 0.54348368 0.38395963 0.70841894 0.71563765 0.59150153]]\n"
     ]
    }
   ],
   "source": [
    "v3rs = v3.reshape((2, 6))\n",
    "\n",
    "print(f'Original matrix of shape {v3.shape} (size {v3.size}):')\n",
    "print(v3)\n",
    "print('')\n",
    "print(f'Reshaped matrix of shape {v3rs.shape} (size {v3rs.size}):')\n",
    "print(v3rs)"
   ]
  },
  {
   "cell_type": "markdown",
   "id": "4783f586-8907-41dc-8c84-8b4c04626fc6",
   "metadata": {},
   "source": [
    "- v.**sum**(axis=(ax_i1, ..., ax_im)): restituisce un array ottenuto dalla somma degli elementi di v rispetto l'asse/gli assi selezionata/i, come indicato dalla tupla $(ax_{i_1}, \\ldots, ax_{i_m})$. Se nessuna tupla di assi viene indicata, tutti gli elementi di v vengono sommati. Nella cella sottostante è possibile vedere alcuni esempi."
   ]
  },
  {
   "cell_type": "code",
   "execution_count": 21,
   "id": "560f267b-22e5-48fc-a409-74f0eacd7d56",
   "metadata": {},
   "outputs": [
    {
     "name": "stdout",
     "output_type": "stream",
     "text": [
      "Sum of v3 \"moving along the rows\": [1.27449075 1.40411279 1.11048531 1.18621976]\n",
      "Sum of v3 \"moving along the columns\": [1.06699942 1.50879144 2.39951775]\n",
      "Sum of all the elements in v3: 4.975308604867996\n"
     ]
    }
   ],
   "source": [
    "print(f'Sum of v3 \"moving along the rows\": {v3.sum(axis=0)}')\n",
    "print(f'Sum of v3 \"moving along the columns\": {v3.sum(axis=1)}')\n",
    "print(f'Sum of all the elements in v3: {v3.sum()}')"
   ]
  },
  {
   "cell_type": "markdown",
   "id": "158acfa0-deec-4940-b9f5-b864c8164e4c",
   "metadata": {},
   "source": [
    "- v.**max**(axis=(ax_i1, ..., ax_im)): restituisce un array con gli elementi massimi di v rispetto l'asse/gli assi selezionata/i, come indicato dalla tupla $(ax_{i_1}, \\ldots, ax_{i_m})$. Se nessuna tupla di assi viene indicata, il masismo degli elementi di v viene restituito."
   ]
  },
  {
   "cell_type": "markdown",
   "id": "db7d3325-ef33-4ab9-8337-1156297fdf46",
   "metadata": {},
   "source": [
    "#### Altri Metodi\n",
    "Molti altri metodi esistono e possono essere facilmente studiati/trovati nella documentazione ufficiale di numpy. Alcuni altri metodi base sono, p.e.,  v.**prod**() o v.**min**(), i quali funzionano rispettivamente in maniera analoga a v.sum() e v.max()."
   ]
  },
  {
   "cell_type": "markdown",
   "id": "e4b55327-ee22-4cb7-96fe-24f8fbf8fdc8",
   "metadata": {},
   "source": [
    "#### L'Indicizzazione in Python PARTE DA ZERO!\n",
    "**Atenzione:** il criterio di indicizzazione usato da python prevede di partire a contare da 0 e non da 1 (come invece fa Matlab, per esempio). "
   ]
  },
  {
   "cell_type": "markdown",
   "id": "c4fd285c-893e-4d66-ba74-48f1ead9a452",
   "metadata": {},
   "source": [
    "## Indexing e Slicing per Array\n",
    "Poiché le sequenze (liste, tuple, 1D-array, ecc.) sono contenitori ordinati di oggetti, i loro elementi sono indicizzati e quindi è possibile definire due operazioni speciali:\n",
    "- **Indexing:** seleziona elementi singoli della sequenza con il comando **seq[index]**.\n",
    "- **Slicing:** estrae \"porzioni\" della sequenza (con sintassi analoga a quella usata per i range), digitando **seq[i0:iFin:step]**. Di default i0 è 0 (se omesso), iFin è la lunghezza della sequenza (se omesso) e step è 1 (se omesso). Il primo simbolo \"due punti\" deve essere sempre scritto, anche se i0 viene omesso, il secondo non è invece necessario se step viene omesso. ATTENZIONE: come per i range, i0 è INCLUSO e iFin è ESCLUSO!\n",
    "\n",
    "#### Il Backward Indexing\n",
    "Data una sequenza generica di $n$ elementi, questi possono essere indicizzati anche \"a partire dalla fine\", con valori negativi. Quindi, possiamo indicizzare gli elementi invece che con indici da 0 ad $n-1$, con indici da $-n$ a $-1$. Più in generale, abbiamo quindi che un elemento può essere indicizzato sia con $-j$ che $n-j$, dato $j\\in\\{1, \\ldots, n\\}$."
   ]
  },
  {
   "cell_type": "markdown",
   "id": "0cffa9f3-360a-4f83-8056-f6f0ce11f254",
   "metadata": {},
   "source": [
    "### Esempi di Indexing"
   ]
  },
  {
   "cell_type": "code",
   "execution_count": 22,
   "id": "4d3086f7-9639-4d70-8337-1b1af1c79b2f",
   "metadata": {},
   "outputs": [
    {
     "name": "stdout",
     "output_type": "stream",
     "text": [
      "Original sequence vseq: [ 2  4  6  8 10 12 14 16 18 20]\n",
      "vseq[0] --> 2\n",
      "vseq[9] --> 20\n",
      "vseq[-1] --> 20\n",
      "vseq[-10] --> 2\n"
     ]
    }
   ],
   "source": [
    "vseq = np.arange(2, 21, 2)\n",
    "\n",
    "print(f'Original sequence vseq: {vseq}')\n",
    "print(f'vseq[0] --> {vseq[0]}')\n",
    "print(f'vseq[9] --> {vseq[9]}')\n",
    "print(f'vseq[-1] --> {vseq[-1]}')\n",
    "print(f'vseq[-10] --> {vseq[-10]}')"
   ]
  },
  {
   "cell_type": "markdown",
   "id": "ec843fe3-ef30-4505-a606-28e65f2f21bb",
   "metadata": {},
   "source": [
    "### Esempi di Slicing"
   ]
  },
  {
   "cell_type": "code",
   "execution_count": 23,
   "id": "5ec2bff4-587d-4507-85fa-2a8041686e32",
   "metadata": {},
   "outputs": [
    {
     "name": "stdout",
     "output_type": "stream",
     "text": [
      "Original sequence vseq: [ 2  4  6  8 10 12 14 16 18 20]\n",
      "vseq[0:6] --> [ 2  4  6  8 10 12]\n",
      "vseq[:6] --> [ 2  4  6  8 10 12]\n",
      "vseq[0:-4] --> [ 2  4  6  8 10 12]\n",
      "vseq[:-4] --> [ 2  4  6  8 10 12]\n",
      "vseq[-10:-4] --> [ 2  4  6  8 10 12]\n",
      "vseq[-10:6] --> [ 2  4  6  8 10 12]\n",
      "vseq[0:6:2] --> [ 2  6 10]\n",
      "vseq[::2] --> [ 2  6 10 14 18]\n",
      "vseq[::] --> [ 2  4  6  8 10 12 14 16 18 20]\n"
     ]
    }
   ],
   "source": [
    "print(f'Original sequence vseq: {vseq}')\n",
    "print(f'vseq[0:6] --> {vseq[0:6]}')\n",
    "print(f'vseq[:6] --> {vseq[:6]}')\n",
    "print(f'vseq[0:-4] --> {vseq[0:-4]}')\n",
    "print(f'vseq[:-4] --> {vseq[:-4]}')\n",
    "print(f'vseq[-10:-4] --> {vseq[-10:-4]}')\n",
    "print(f'vseq[-10:6] --> {vseq[-10:6]}')\n",
    "print(f'vseq[0:6:2] --> {vseq[0:6:2]}')\n",
    "print(f'vseq[::2] --> {vseq[::2]}')\n",
    "print(f'vseq[::] --> {vseq[::]}')"
   ]
  },
  {
   "cell_type": "markdown",
   "id": "f5409a09-8f41-43bb-b3eb-dd41362b1fc3",
   "metadata": {},
   "source": [
    "## Indexing e Slicing Generalizzati a ND-array\n",
    "\n",
    "Sia v un ND-array con N assi, indicizzati da 0 ad N-1. Allora possiamo eseguire operazioni di indexing e slicing rispetto ognuno degli assi digitando **v[index or slice axis0, ..., index or slice axisN-1]**. Il risultato sarà un \"ND-sotto-array\" di v. Nella cella sottostante è possibile vedere alcuni esempi."
   ]
  },
  {
   "cell_type": "code",
   "execution_count": 24,
   "id": "db14787b-4aff-4d95-8ddc-e1ad4bf131f9",
   "metadata": {},
   "outputs": [
    {
     "name": "stdout",
     "output_type": "stream",
     "text": [
      "Submatrix of v3 that takes rows 1,3, and columns 2,4:\n",
      "[[0.19472231 0.05123454]\n",
      " [0.70841894 0.59150153]]\n"
     ]
    }
   ],
   "source": [
    "print('Submatrix of v3 that takes rows 1,3, and columns 2,4:')\n",
    "print(v3[0::2, 1::2])"
   ]
  },
  {
   "cell_type": "markdown",
   "id": "37b79ed4-59a3-4a68-bd93-8ceb3d65b0e4",
   "metadata": {},
   "source": [
    "## Cancellare Righe/Colonne da una Matrice\n",
    "\n",
    "Per cancellare/eliminare righe o colonne da una matrice si può utilizzare la funzione *np.delete*. Di fatto. la funzione può essere applicata anche ad ND-array, non solo a matrici.\n",
    "- np.**delete**(array, sequence_of_inds, axis): restituisce un nuovo array ottenuto dall'array iniziale rimuovendo il sotto-array indicato da sequence_of_inds lungo l'asse indicato. In particolare restituisce l'array iniziale dove l'$i$-esimo array dell'asse indicato è stato rimosso, per ogni $i$ in *sequence_of_inds*."
   ]
  },
  {
   "cell_type": "code",
   "execution_count": 25,
   "id": "7b17798c-4a42-49c2-a66f-d612b5b5186d",
   "metadata": {},
   "outputs": [
    {
     "name": "stdout",
     "output_type": "stream",
     "text": [
      "Removed rows 0 and 2 from v3:\n",
      "[[0.20657917 0.50097153 0.25775705 0.54348368]]\n",
      "\n",
      "Removed column 1 from v3:\n",
      "[[0.68395194 0.13709062 0.05123454]\n",
      " [0.20657917 0.25775705 0.54348368]\n",
      " [0.38395963 0.71563765 0.59150153]]\n"
     ]
    }
   ],
   "source": [
    "# help(np.delete)  # Uncomment this line to read the help of the function\n",
    "\n",
    "v3_norow_0_2 = np.delete(v3, [0, 2], axis=0)\n",
    "v3_nocol_1 = np.delete(v3, 1, axis=1)\n",
    "\n",
    "print('Removed rows 0 and 2 from v3:')\n",
    "print(v3_norow_0_2)\n",
    "print('')\n",
    "print('Removed column 1 from v3:')\n",
    "print(v3_nocol_1)"
   ]
  },
  {
   "cell_type": "markdown",
   "id": "bdef72c1-f2ef-466f-a426-7d802448a2f9",
   "metadata": {},
   "source": [
    "## Operazioni con gli Array\n",
    "\n",
    "Tutte le operazioni aritmetiche classiche di python (+, -, $\\ *$, /, //, $\\%$) sono eseguite sempre **elemento-per-elemento**.\n",
    "\n",
    "La moltiplicazione tra matrici ed il prodotto scalare tra vettori viene invece eseguito con la funzione np.**matmul**. Per il caso di prodotto tra matrici, si può in alternativa usare il più semplice operatore **@**.\n",
    "\n",
    "In particolare, per ogni coppia v1, v2 di array (1D o 2D, non consideriamo altri casi), np.matmul funziona nel modo seguente:\n",
    "- np.**matmul**(v1, v2): restituisce il prodotto matrice-matrice se entrambi 2D-array, altrimenti (entrambi 1D-array) restituisce il prodotto scalare.\n",
    "\n",
    "**ATTENZIONE:** se dovete moltiplicare una matrice per un vettore (o viceversa), il vettore **dovrà essere per forza un 2D-array** (della dimensione appropriata per fare la moltiplicazione).\n",
    "\n",
    "Nella cella sottostante è possibile vedere alcuni esempi."
   ]
  },
  {
   "cell_type": "code",
   "execution_count": 26,
   "id": "b75c1a7c-4105-400f-b7fb-ff131132fa01",
   "metadata": {},
   "outputs": [
    {
     "name": "stdout",
     "output_type": "stream",
     "text": [
      "Scalar product of v2 with itself: 2.3052821985442473\n",
      "\n",
      "Matrix-matrix product of v3 with its transpose:\n",
      "[[0.52712586 0.30202177 0.52896743]\n",
      " [0.30202177 0.65546064 0.94014786]\n",
      " [0.52896743 0.94014786 1.5112937 ]]\n",
      "\n",
      "Matrix-matrix product of v3 with its transpose, using the @ operator:\n",
      "[[0.52712586 0.30202177 0.52896743]\n",
      " [0.30202177 0.65546064 0.94014786]\n",
      " [0.52896743 0.94014786 1.5112937 ]]\n",
      "\n",
      "Matrix-matrix product of v3 with v2 (reshaped as a column vector), using the @ operator:\n",
      "[[0.79463677]\n",
      " [1.16687672]\n",
      " [1.79400447]]\n"
     ]
    }
   ],
   "source": [
    "print(f'Scalar product of v2 with itself: {np.matmul(v2, v2)}')\n",
    "print('')\n",
    "print(f'Matrix-matrix product of v3 with its transpose:')\n",
    "print(np.matmul(v3, v3.T))\n",
    "print('')\n",
    "print(f'Matrix-matrix product of v3 with its transpose, using the @ operator:')\n",
    "print(v3 @ v3.T)\n",
    "print('')\n",
    "print(f'Matrix-matrix product of v3 with v2 (reshaped as a column vector), using the @ operator:')\n",
    "print(v3 @ v2.reshape((4, 1)))"
   ]
  },
  {
   "cell_type": "code",
   "execution_count": null,
   "id": "c51f9ef8-3e4d-47eb-bd61-e4dab89ec3a3",
   "metadata": {},
   "outputs": [],
   "source": []
  },
  {
   "cell_type": "code",
   "execution_count": null,
   "id": "410aee73-0df8-4bd4-a500-9633c349f414",
   "metadata": {},
   "outputs": [],
   "source": []
  },
  {
   "cell_type": "code",
   "execution_count": null,
   "id": "ffe888ee-7614-443d-8167-32417b54965f",
   "metadata": {},
   "outputs": [],
   "source": []
  },
  {
   "cell_type": "code",
   "execution_count": null,
   "id": "07eaaf99-a8e6-4d64-8671-b74e9a107430",
   "metadata": {},
   "outputs": [],
   "source": []
  },
  {
   "cell_type": "code",
   "execution_count": null,
   "id": "7fcaa8cb-06ad-4d5b-b410-55d896231b7d",
   "metadata": {},
   "outputs": [],
   "source": []
  }
 ],
 "metadata": {
  "kernelspec": {
   "display_name": "Python 3 (ipykernel)",
   "language": "python",
   "name": "python3"
  },
  "language_info": {
   "codemirror_mode": {
    "name": "ipython",
    "version": 3
   },
   "file_extension": ".py",
   "mimetype": "text/x-python",
   "name": "python",
   "nbconvert_exporter": "python",
   "pygments_lexer": "ipython3",
   "version": "3.12.3"
  }
 },
 "nbformat": 4,
 "nbformat_minor": 5
}
