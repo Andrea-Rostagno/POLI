{
 "cells": [
  {
   "cell_type": "markdown",
   "id": "professional-january",
   "metadata": {},
   "source": [
    "# Python Lab 04b: Agaricus-Lepiota ed SVM Lineari\n",
    "## Francesco Della Santa, Matematica per l'Intelligenza Artificiale, Politecnico di Torino\n",
    "\n",
    "In questo notebook riprendiamo il dataset _Agaricus-Lepiota_ di alcune lezioni fa (esercitazione sul _Label Encoding_ ed il _One-hot Encoding_). Nell'esercitazione di oggi applicheremo la PCA e le SVM lineari su questo dataset.\n",
    "\n",
    "**ATTENZIONE:** Questa esercitazione richiederà una maggior partecipazione dello studente. Le celle di codice non dovranno essere solamente completate ma, in certi casi, interamente scritte. Tuttavia, un buon \"riciclo\" dei codici delle esercitazioni precedenti permette di velocizzare/semplificare notevolmente il lavoro.\n",
    "\n",
    "\n",
    "## Documentazione Allegata al Dataset\n",
    "\n",
    "1. Title: Mushroom Database\n",
    "\n",
    "2. Sources: \n",
    "    1. Mushroom records drawn from The Audubon Society Field Guide to North American Mushrooms (1981). G. H. Lincoff (Pres.), New York: Alfred A. Knopf\n",
    "    2. Donor: Jeff Schlimmer (Jeffrey.Schlimmer@a.gp.cs.cmu.edu)\n",
    "    3. Date: 27 April 1987\n",
    "\n",
    "3. Past Usage:\n",
    "    1. Schlimmer,J.S. (1987). Concept Acquisition Through Representational Adjustment (Technical Report 87-19).  Doctoral disseration, Department of Information and Computer Science, University of California, Irvine. --- STAGGER: asymptoted to 95% classification accuracy after reviewing 1000 instances.\n",
    "    2. Iba,W., Wogulis,J., & Langley,P. (1988).  Trading off Simplicity and Coverage in Incremental Concept Learning. In Proceedings of the 5th International Conference on Machine Learning, 73-79. Ann Arbor, Michigan: Morgan Kaufmann. -- approximately the same results with their HILLARY algorithm.\n",
    "    3. In the following references a set of rules (given below) were learned for this data set which may serve as a point of comparison for other researchers.\n",
    "    \n",
    "    Duch W, Adamczak R, Grabczewski K (1996) Extraction of logical rules from training data using backpropagation networks, in: Proc. of the 1st Online Workshop on Soft Computing, 19-30.Aug.1996, pp. 25-30, available on-line at: http://www.bioele.nuee.nagoya-u.ac.jp/wsc1/\n",
    "    \n",
    "    Duch W, Adamczak R, Grabczewski K, Ishikawa M, Ueda H, Extraction of crisp logical rules using constrained backpropagation networks - comparison of two new approaches, in: Proc. of the European Symposium on Artificial Neural Networks (ESANN'97), Bruge, Belgium 16-18.4.1997, pp. xx-xx\n",
    "    \n",
    "    Wlodzislaw Duch, Department of Computer Methods, Nicholas Copernicus University, 87-100 Torun, Grudziadzka 5, Poland e-mail: duch@phys.uni.torun.pl , http://www.phys.uni.torun.pl/kmk/\n",
    "    \n",
    "    Date: Mon, 17 Feb 1997 13:47:40 +0100\n",
    "    \n",
    "    From: Wlodzislaw Duch <duch@phys.uni.torun.pl>\n",
    "    \n",
    "    Organization: Dept. of Computer Methods, UMK\n",
    "\n",
    "    I have attached a file containing logical rules for mushrooms. It should be helpful for other people since only in the last year I have seen about 10 papers analyzing this dataset and obtaining quite complex rules. We will try to contribute other results later.\n",
    "\n",
    "    With best regards, Wlodek Duch\n",
    "    \n",
    "    ________________________________________________________________\n",
    "\n",
    "    Logical rules for the mushroom data sets.\n",
    "\n",
    "    Logical rules given below seem to be the simplest possible for the mushroom dataset and therefore should be treated as benchmark results.\n",
    "    \n",
    "    Disjunctive rules for poisonous mushrooms, from most general to most specific:\n",
    "\n",
    "    P_1) odor=NOT(almond.OR.anise.OR.none): 120 poisonous cases missed, 98.52% accuracy\n",
    "\n",
    "    P_2) spore-print-color=green: 48 cases missed, 99.41% accuracy\n",
    "         \n",
    "    P_3) odor=none.AND.stalk-surface-below-ring=scaly.AND.(stalk-color-above-ring=NOT.brown): 8 cases missed, 99.90% accuracy\n",
    "         \n",
    "    P_4) habitat=leaves.AND.cap-color=white: 100% accuracy.\n",
    "    Rule P_4) may also be\n",
    "\n",
    "    P_4') population=clustered.AND.cap_color=white\n",
    "    These rule involve 6 attributes (out of 22). Rules for edible mushrooms are obtained as negation of the rules given above, for example the rule:\n",
    "\n",
    "    odor=(almond.OR.anise.OR.none).AND.spore-print-color=NOT.green gives 48 errors, or 99.41% accuracy on the whole dataset.\n",
    "\n",
    "    Several slightly more complex variations on these rules exist, involving other attributes, such as gill_size, gill_spacing, stalk_surface_above_ring, but the rules given above are the simplest we have found.\n",
    "\n",
    "\n",
    "4. Relevant Information:\n",
    "    \n",
    "    This data set includes descriptions of hypothetical samples corresponding to 23 species of gilled mushrooms in the Agaricus and Lepiota Family (pp. 500-525).  Each species is identified as definitely edible, definitely poisonous, or of unknown edibility and not recommended.  This latter class was combined with the poisonous one.  The Guide clearly states that there is no simple rule for determining the edibility of a mushroom; no rule like ``leaflets three, let it be'' for Poisonous Oak and Ivy.\n",
    "\n",
    "5. Number of Instances: 8124\n",
    "\n",
    "6. Number of Attributes: 22 (all nominally valued): 'cap-shape', 'cap-surface', 'cap-color', 'bruises?', 'odor', 'gill-attachment', 'gill-spacing', 'gill-size', 'gill-color', 'stalk-shape', 'stalk-root', 'stalk-surface-above-ring', 'stalk-surface-below-ring', 'stalk-color-above-ring', 'stalk-color-below-ring', 'veil-type', 'veil-color', 'ring-number', 'ring-type', 'spore-print-color', 'population', 'habitat'.\n",
    "\n",
    "7. Attribute Information: (classes: edible=e, poisonous=p)\n",
    "     - 01 *cap-shape:*\n",
    "        \n",
    "        bell=b, conical=c, convex=x, flat=f, knobbed=k,sunken=s\n",
    "     - 02 *cap-surface:*\n",
    "        \n",
    "        fibrous=f, grooves=g, caly=y, smooth=s\n",
    "     - 03 *cap-color:*\n",
    "        \n",
    "        brown=n, buff=b, cinnamon=c, gray=g, green=r, pink=p,purple=u,red=e,white=w,yellow=y\n",
    "     - 04 *bruises?:*\n",
    "\n",
    "        bruises=t, no=f\n",
    "     - 05 *odor:*\n",
    "\n",
    "        almond=a, anise=l, creosote=c, fishy=y, foul=f, musty=m, none=n, pungent=p, spicy=s\n",
    "     - 06 *gill-attachment:*\n",
    "\n",
    "        attached=a, descending=d, free=f, notched=n\n",
    "     - 07 *gill-spacing:*\n",
    "\n",
    "        close=c, crowded=w, distant=d\n",
    "     - 08 *gill-size:*\n",
    "\n",
    "        broad=b, narrow=n\n",
    "     - 09 *gill-color:*\n",
    "\n",
    "        black=k, brown=n, buff=b, chocolate=h, gray=g, green=r, orange=o, pink=p, purple=u, red=e, white=w, yellow=y\n",
    "    - 10 *stalk-shape:*\n",
    "\n",
    "        enlarging=e, tapering=t\n",
    "    - 11 *stalk-root:*\n",
    "\n",
    "        bulbous=b, club=c, cup=u, equal=e, rhizomorphs=z, rooted=r, missing=?\n",
    "    - 12 *stalk-surface-above-ring:*\n",
    "\n",
    "        fibrous=f, scaly=y, silky=k, smooth=s\n",
    "    - 13 *stalk-surface-below-ring:*\n",
    "\n",
    "        fibrous=f, scaly=y, silky=k, smooth=s\n",
    "    - 14 *stalk-color-above-ring:*\n",
    "\n",
    "        brown=n, buff=b, cinnamon=c, gray=g, orange=o,pink=p,red=e, white=w, yellow=y\n",
    "    - 15 *stalk-color-below-ring:*\n",
    "\n",
    "        brown=n,buff=b, cinnamon=c, gray=g, orange=o, pink=p,red=e, white=w, yellow=y\n",
    "    - 16 *veil-type:*\n",
    "\n",
    "        partial=p, universal=u\n",
    "    - 17 *veil-color:*\n",
    "\n",
    "        brown=n, orange=o, white=w, yellow=y\n",
    "    - 18 *ring-number:*\n",
    "\n",
    "        none=n, one=o, two=t\n",
    "    - 19 *ring-type:*\n",
    "\n",
    "        cobwebby=c, evanescent=e, flaring=f, large=l, none=n, pendant=p, sheathing=s, zone=z\n",
    "    - 20 *spore-print-color:*\n",
    "\n",
    "        black=k, brown=n, buff=b, chocolate=h, green=r, orange=o, purple=u, white=w, yellow=y\n",
    "    - 21 *population:*\n",
    "\n",
    "        abundant=a, clustered=c, numerous=n, scattered=s, several=v, solitary=y\n",
    "    - 22 *habitat:*\n",
    "\n",
    "        grasses=g, leaves=l, meadows=m, paths=p, urban=u, waste=w, woods=d\n",
    "\n",
    "8. Missing Attribute Values: 2480 of them (denoted by \"?\"), all for attribute 11.\n",
    "\n",
    "9. Class Distribution (first column of the dataset): \n",
    "    1. edible (e): 4208 (51.8%)\n",
    "    2. poisonous (p): 3916 (48.2%)\n",
    "    3. total: 8124 instances\n"
   ]
  },
  {
   "cell_type": "markdown",
   "id": "above-creativity",
   "metadata": {},
   "source": [
    "## Caricamento e Preprocessamento del Dataset\n",
    "\n",
    "**ATTENZIONE:** si lascia allo studente la scelta di quali moduli importare e come importarli."
   ]
  },
  {
   "cell_type": "code",
   "execution_count": null,
   "id": "victorian-humanity",
   "metadata": {},
   "outputs": [],
   "source": [
    "# ***** NOTA BENE! *****\n",
    "# perché %matplotlib widget funzioni, installare nell'ambiente virtuale \n",
    "# il pacchetto ipympl con il comando:\n",
    "# pip install ipympl\n",
    "#\n",
    "# ATTENZIONE: perché funzioni è necessario chiudere e rilanciare jupyter-lab\n",
    "#\n",
    "# STILE DI VISUALIZZAZIONE PLOT FATTI CON MATPLOTLIB\n",
    "%matplotlib widget\n",
    "#\n",
    "#\n",
    "import pandas as pd\n",
    "import numpy as np\n",
    "import matplotlib\n",
    "import matplotlib.pyplot as plt\n",
    "# ...\n",
    "# ... INSERIRE EVENTUALI ALTRE IMPORTAZIONI\n",
    "# ...\n",
    "from IPython.display import display"
   ]
  },
  {
   "cell_type": "markdown",
   "id": "damaged-knight",
   "metadata": {},
   "source": [
    "### Caricamento e Preparazione Base del Dataset\n",
    "\n",
    "Caricamento del dataset effettuato come nella scorsa esercitazione.\n",
    "\n",
    "**ATTENZIONE/Esercizio:** inserire il percorso del file corretto."
   ]
  },
  {
   "cell_type": "code",
   "execution_count": null,
   "id": "unlike-instrumentation",
   "metadata": {},
   "outputs": [],
   "source": [
    "# mushrooms = pd.read_csv('agaricus-lepiota.data', header=None)  # <----------- INSERIRE PERCORSO FILE CORRETTO\n",
    "\n",
    "display(mushrooms)"
   ]
  },
  {
   "cell_type": "markdown",
   "id": "frank-snapshot",
   "metadata": {},
   "source": [
    "#### Assegnazione Nomi a Colonne Dataset\n",
    "\n",
    "**Esercizio:** Cambia i nomi delle colonne nel DataFrame da numeri interi ai nomi indicati nella lista _col_names_ della cella sottostante."
   ]
  },
  {
   "cell_type": "code",
   "execution_count": null,
   "id": "restricted-cornwall",
   "metadata": {},
   "outputs": [],
   "source": [
    "col_names = ['class', 'cap-shape', 'cap-surface', 'cap-color', 'bruises?', 'odor', 'gill-attachment', 'gill-spacing', \n",
    "             'gill-size', 'gill-color', 'stalk-shape', 'stalk-root', 'stalk-surface-above-ring', 'stalk-surface-below-ring', \n",
    "             'stalk-color-above-ring', 'stalk-color-below-ring', 'veil-type', 'veil-color', 'ring-number', 'ring-type', \n",
    "             'spore-print-color', 'population', 'habitat']\n",
    "# rename_dict = ...  # <------------ COMPLETARE!\n",
    "\n",
    "mushrooms.rename(columns=rename_dict, inplace=True)\n",
    "\n",
    "display(mushrooms)"
   ]
  },
  {
   "cell_type": "markdown",
   "id": "several-proposal",
   "metadata": {},
   "source": [
    "#### Conversione dei Dati in \"categorical\"\n",
    "\n",
    "**Esercizio:** converti tutti i dati del DataFrame in tipo \"_categorical_\"."
   ]
  },
  {
   "cell_type": "code",
   "execution_count": null,
   "id": "applied-vinyl",
   "metadata": {},
   "outputs": [],
   "source": [
    "# mushrooms = mushrooms.astype(...)  # <----------- COMPLETARE"
   ]
  },
  {
   "cell_type": "markdown",
   "id": "waiting-catalyst",
   "metadata": {},
   "source": [
    "## Encoding del Dataset\n",
    "\n",
    "(... saltiamo la parte di esplorazione del dataset, già svolta nell precedente esercitazione...)\n",
    "\n",
    "**Esercizio:** scrivere nella cella di codice seguente i comandi necessari ad effettuare un one-hot encoding rispetto alle features ed un label encoding rispetto ai target. Il tutto fatto su una _COPIA_ del dataset originale."
   ]
  },
  {
   "cell_type": "code",
   "execution_count": null,
   "id": "impressive-netscape",
   "metadata": {},
   "outputs": [],
   "source": [
    "# LEGENDA VARIABILI DA USARE:\n",
    "# mushrooms_work : copia del dataframe mushrooms che verrà trasformato rispetto il nuovo encoding\n",
    "\n",
    "# Copy of the dataframe\n",
    "# ...\n",
    "\n",
    "# Label Encoding\n",
    "# ...\n",
    "\n",
    "# One-hot Encoding\n",
    "# ...\n",
    "\n",
    "display(mushrooms_work)"
   ]
  },
  {
   "cell_type": "markdown",
   "id": "express-cholesterol",
   "metadata": {},
   "source": [
    "## Preparazione dei Dati\n",
    "\n",
    "**Esercizio:** estrarre dal dataframe *mushrooms_work* la matrice $X$ delle features ed il vettore $\\boldsymbol{y}$ delle classi (corrispondenti alle righe di $X$). Dopodiché determinare le matrici $X_{\\mathrm{train}}, X_{\\mathrm{test}}$ ed i vettori $\\boldsymbol{y}_{\\mathrm{train}}, \\boldsymbol{y}_{\\mathrm{test}}$ rappresentanti rispettivamente il *training* ed il *test* set. La percentuale di suddivisione del dataset in *training-test* deve essere *50%-50%*; il *random seed* uguale a $42$.\n",
    "\n",
    "**SUGGERIMENTO:** si utilizzi la funzione *train_test_split* del sottomdulo *model_selection* di *sklearn*, leggendo con attenzione [la documentazione ufficiale](https://scikit-learn.org/stable/modules/generated/sklearn.model_selection.train_test_split.html). **Attenzione:** verificare che sklearn ed il rispettivo sottomodulo sia importati per poter utilizzare questa funzione!"
   ]
  },
  {
   "cell_type": "code",
   "execution_count": null,
   "id": "dominican-problem",
   "metadata": {},
   "outputs": [],
   "source": [
    "# LEGENDA VARIABILI DA USARE:\n",
    "# X : matrice delle features di mushrooms_work\n",
    "# y : vettore delle classi di mushrooms_work\n",
    "# X_train, X_test: matrici delle features di training e test set, rispettivamente, ottenute da X\n",
    "# y_train, y_test: vettiri delle classi di training e test set, rispettivamente, ottenuti da y\n",
    "\n",
    "# ..."
   ]
  },
  {
   "cell_type": "markdown",
   "id": "interpreted-clothing",
   "metadata": {},
   "source": [
    "## PCA\n",
    "\n",
    "**Esercizio:** eseguire la PCA su $X_{\\mathrm{train}}$ *senza riduzione della dimensionalità*, per visualizzare l'andamento della varianza spiegata all'aumentare delle PC."
   ]
  },
  {
   "cell_type": "code",
   "execution_count": null,
   "id": "canadian-movie",
   "metadata": {},
   "outputs": [],
   "source": [
    "# LEGENDA VARIABILI DA USARE:\n",
    "# pca_global : oggetto PCA che NON effettua riduzione di dimensionalità\n",
    "\n",
    "# ...\n",
    "\n",
    "plt.figure()\n",
    "# ..."
   ]
  },
  {
   "cell_type": "markdown",
   "id": "horizontal-cancellation",
   "metadata": {},
   "source": [
    "**Esercizio:** eseguire la PCA su $X_{\\mathrm{train}}$ preservando una percentuale di varianza spiegata pari almeno a *explvar_p=0.90*. Visualizzare il numero di PC selezionate."
   ]
  },
  {
   "cell_type": "code",
   "execution_count": null,
   "id": "persistent-greek",
   "metadata": {},
   "outputs": [],
   "source": [
    "# LEGENDA VARIABILI DA USARE:\n",
    "# pca : oggetto PCA che effettua riduzione di dimensionalità\n",
    "\n",
    "# ..."
   ]
  },
  {
   "cell_type": "markdown",
   "id": "descending-horror",
   "metadata": {},
   "source": [
    "## SVM Lineari\n",
    "\n",
    "**Esercizio:** testare le SVM lineari (con i paramteri forniti) per la predizione della classe. Nello specifico si applichino le SVM sia al problema \"completo\" che a quello di dimensione ridotta tramite PCA. Per quest'ultimo, visualizzare poi i dati in $\\mathbb{R}^2$ rispetto alle prime due PC e in $\\mathbb{R}^3$ rispetto le prime 3 PC."
   ]
  },
  {
   "cell_type": "code",
   "execution_count": null,
   "id": "portable-mechanism",
   "metadata": {},
   "outputs": [],
   "source": [
    "C_hard = 1e10\n",
    "loss = 'squared_hinge'\n",
    "dual = False\n",
    "\n",
    "# LEGENDA VARIABILI DA USARE:\n",
    "# lsvm_hard : oggetto LinearSVC da applicare ai dati senza PCA\n",
    "# lsvm_hard_pca: oggetto LinearSVC da applicare ai dati senza PCA\n",
    "\n",
    "# ...\n",
    "\n",
    "plt.figure()\n",
    "# ...\n",
    "\n",
    "fig3PC = plt.figure()\n",
    "# ..."
   ]
  },
  {
   "cell_type": "code",
   "execution_count": null,
   "id": "latin-grove",
   "metadata": {},
   "outputs": [],
   "source": []
  }
 ],
 "metadata": {
  "kernelspec": {
   "display_name": "Python 3 (ipykernel)",
   "language": "python",
   "name": "python3"
  },
  "language_info": {
   "codemirror_mode": {
    "name": "ipython",
    "version": 3
   },
   "file_extension": ".py",
   "mimetype": "text/x-python",
   "name": "python",
   "nbconvert_exporter": "python",
   "pygments_lexer": "ipython3",
   "version": "3.11.4"
  }
 },
 "nbformat": 4,
 "nbformat_minor": 5
}
